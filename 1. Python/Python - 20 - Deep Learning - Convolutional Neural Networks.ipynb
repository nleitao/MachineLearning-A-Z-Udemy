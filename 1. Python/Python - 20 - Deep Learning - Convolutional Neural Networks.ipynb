{
  "cells": [
    {
      "metadata": {
        "trusted": true
      },
      "cell_type": "code",
      "source": "#Importing the Keras libraries and packages\n\nfrom keras.models import Sequential\nfrom keras.layers import Convolution2D\nfrom keras.layers import MaxPooling2D\nfrom keras.layers import Flatten\nfrom keras.layers import Dense",
      "execution_count": 2,
      "outputs": []
    },
    {
      "metadata": {
        "trusted": true
      },
      "cell_type": "code",
      "source": "#Initialising the CNN\nclassifier = Sequential()",
      "execution_count": 3,
      "outputs": []
    },
    {
      "metadata": {
        "trusted": true
      },
      "cell_type": "code",
      "source": "#Step 1 - Convolution\nclassifier.add(Convolution2D(32,3,3,input_shape=(64,64,3),activation='relu'))\n\n#it means that we want 32 feature detectors, size =3x3\n#input_shape (tamanho X, tamanho Y, numero of channels (3 se for a cores RGB),)\n#forca a imagem de input a ter esta dimensao",
      "execution_count": 4,
      "outputs": [
        {
          "output_type": "stream",
          "text": "/home/nbuser/anaconda3_501/lib/python3.6/site-packages/ipykernel/__main__.py:2: UserWarning: Update your `Conv2D` call to the Keras 2 API: `Conv2D(32, (3, 3), input_shape=(64, 64, 3..., activation=\"relu\")`\n  from ipykernel import kernelapp as app\n",
          "name": "stderr"
        }
      ]
    },
    {
      "metadata": {
        "trusted": true
      },
      "cell_type": "code",
      "source": "#Step 2 - Pooling\nclassifier.add(MaxPooling2D(pool_size=(2,2)))",
      "execution_count": 5,
      "outputs": []
    },
    {
      "metadata": {
        "trusted": true
      },
      "cell_type": "code",
      "source": "#Step 3 - Flattening\nclassifier.add(Flatten())",
      "execution_count": 6,
      "outputs": []
    },
    {
      "metadata": {
        "trusted": true
      },
      "cell_type": "code",
      "source": "#Step 4 - Full Connection\nclassifier.add(Dense(output_dim=128,activation='relu'))\nclassifier.add(Dense(output_dim=1,activation='sigmoid'))\n#usamos sigmoid, porque o nosso output e binario (ou e cao ou gato)",
      "execution_count": 7,
      "outputs": [
        {
          "output_type": "stream",
          "text": "/home/nbuser/anaconda3_501/lib/python3.6/site-packages/ipykernel/__main__.py:2: UserWarning: Update your `Dense` call to the Keras 2 API: `Dense(activation=\"relu\", units=128)`\n  from ipykernel import kernelapp as app\n/home/nbuser/anaconda3_501/lib/python3.6/site-packages/ipykernel/__main__.py:3: UserWarning: Update your `Dense` call to the Keras 2 API: `Dense(activation=\"sigmoid\", units=1)`\n  app.launch_new_instance()\n",
          "name": "stderr"
        }
      ]
    },
    {
      "metadata": {
        "trusted": true
      },
      "cell_type": "code",
      "source": "#Compiling the CNN\nclassifier.compile(optimizer='adam',loss='binary_crossentropy',metrics=['accuracy'])",
      "execution_count": 8,
      "outputs": []
    },
    {
      "metadata": {
        "trusted": true
      },
      "cell_type": "code",
      "source": "#Part 2 - Fitting the CNN to the images\n#COMO USAMOS O KERAS PACKAGE, em vez de passarmos um vector com os labels podemos por as images dentro de pastas diferentes e o nome da pasta onde esta uma imagem passa a ser o label dessa imagem\n#ou seja aqui temos smpr duas pastas (caes e gatos), dentro da pasta training_set/test_set\n#First we do some image augmentation (take the images that I got and duplicate them and on some stretch, on others rotate on others apply different pixel masking. We do this to have more \"different\" images to train to prevent overfitting)\n\nfrom keras.preprocessing.image import ImageDataGenerator\n\ntrain_datagen = ImageDataGenerator(\n        rescale=1./255,\n        shear_range=0.2,\n        zoom_range=0.2,\n        horizontal_flip=True)\n\ntest_datagen = ImageDataGenerator(rescale=1./255)\n\n\n#target_size=o tamanho final das imagens \n#class_mode= binary. porque so tenho dois resultados possiveis (caes ou gatos)\ntraining_set = train_datagen.flow_from_directory(\n                                                    './../0. DataSets/Convolutional_Neural_Networks/dataset/training_set/',\n                                                    target_size=(64, 64),\n                                                    batch_size=32,\n                                                    class_mode='binary')\n\ntest_set = test_datagen.flow_from_directory(\n        './../0. DataSets/Convolutional_Neural_Networks/dataset/test_set/',\n        target_size=(64, 64),\n        batch_size=32,\n        class_mode='binary')\n\n",
      "execution_count": 9,
      "outputs": [
        {
          "output_type": "stream",
          "text": "Found 8000 images belonging to 2 classes.\nFound 2000 images belonging to 2 classes.\n",
          "name": "stdout"
        }
      ]
    },
    {
      "metadata": {
        "trusted": true
      },
      "cell_type": "code",
      "source": "#steps_per_epoch foi posto igual ao numero de images que tenho no training set\n#validation_steps foi posto igual ao numero de images que tenho no test set\nclassifier.fit_generator(\n        training_set,\n        steps_per_epoch=8000,\n        epochs=25,\n        validation_data=test_set,\n        validation_steps=2000)\n",
      "execution_count": null,
      "outputs": [
        {
          "output_type": "stream",
          "text": "Epoch 1/25\n  25/8000 [..............................] - ETA: 33:20:28 - loss: 0.9152 - acc: 0.4850",
          "name": "stdout"
        }
      ]
    },
    {
      "metadata": {
        "trusted": true
      },
      "cell_type": "code",
      "source": "",
      "execution_count": null,
      "outputs": []
    }
  ],
  "metadata": {
    "kernelspec": {
      "name": "python36",
      "display_name": "Python 3.6",
      "language": "python"
    },
    "language_info": {
      "mimetype": "text/x-python",
      "nbconvert_exporter": "python",
      "name": "python",
      "pygments_lexer": "ipython3",
      "version": "3.6.6",
      "file_extension": ".py",
      "codemirror_mode": {
        "version": 3,
        "name": "ipython"
      }
    }
  },
  "nbformat": 4,
  "nbformat_minor": 2
}