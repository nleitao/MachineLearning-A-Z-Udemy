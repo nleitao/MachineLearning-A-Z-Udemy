{
 "cells": [
  {
   "cell_type": "markdown",
   "metadata": {},
   "source": [
    "## Deep Learning - Artificial Neural Networks"
   ]
  },
  {
   "cell_type": "code",
   "execution_count": 1,
   "metadata": {},
   "outputs": [],
   "source": [
    "#importing libraries\n",
    "\n",
    "import numpy as np\n",
    "import matplotlib.pyplot as plt\n",
    "import pandas as pd"
   ]
  },
  {
   "cell_type": "code",
   "execution_count": 2,
   "metadata": {},
   "outputs": [
    {
     "data": {
      "text/html": [
       "<div>\n",
       "<style scoped>\n",
       "    .dataframe tbody tr th:only-of-type {\n",
       "        vertical-align: middle;\n",
       "    }\n",
       "\n",
       "    .dataframe tbody tr th {\n",
       "        vertical-align: top;\n",
       "    }\n",
       "\n",
       "    .dataframe thead th {\n",
       "        text-align: right;\n",
       "    }\n",
       "</style>\n",
       "<table border=\"1\" class=\"dataframe\">\n",
       "  <thead>\n",
       "    <tr style=\"text-align: right;\">\n",
       "      <th></th>\n",
       "      <th>RowNumber</th>\n",
       "      <th>CustomerId</th>\n",
       "      <th>Surname</th>\n",
       "      <th>CreditScore</th>\n",
       "      <th>Geography</th>\n",
       "      <th>Gender</th>\n",
       "      <th>Age</th>\n",
       "      <th>Tenure</th>\n",
       "      <th>Balance</th>\n",
       "      <th>NumOfProducts</th>\n",
       "      <th>HasCrCard</th>\n",
       "      <th>IsActiveMember</th>\n",
       "      <th>EstimatedSalary</th>\n",
       "      <th>Exited</th>\n",
       "    </tr>\n",
       "  </thead>\n",
       "  <tbody>\n",
       "    <tr>\n",
       "      <th>0</th>\n",
       "      <td>1</td>\n",
       "      <td>15634602</td>\n",
       "      <td>Hargrave</td>\n",
       "      <td>619</td>\n",
       "      <td>France</td>\n",
       "      <td>Female</td>\n",
       "      <td>42</td>\n",
       "      <td>2</td>\n",
       "      <td>0.00</td>\n",
       "      <td>1</td>\n",
       "      <td>1</td>\n",
       "      <td>1</td>\n",
       "      <td>101348.88</td>\n",
       "      <td>1</td>\n",
       "    </tr>\n",
       "    <tr>\n",
       "      <th>1</th>\n",
       "      <td>2</td>\n",
       "      <td>15647311</td>\n",
       "      <td>Hill</td>\n",
       "      <td>608</td>\n",
       "      <td>Spain</td>\n",
       "      <td>Female</td>\n",
       "      <td>41</td>\n",
       "      <td>1</td>\n",
       "      <td>83807.86</td>\n",
       "      <td>1</td>\n",
       "      <td>0</td>\n",
       "      <td>1</td>\n",
       "      <td>112542.58</td>\n",
       "      <td>0</td>\n",
       "    </tr>\n",
       "    <tr>\n",
       "      <th>2</th>\n",
       "      <td>3</td>\n",
       "      <td>15619304</td>\n",
       "      <td>Onio</td>\n",
       "      <td>502</td>\n",
       "      <td>France</td>\n",
       "      <td>Female</td>\n",
       "      <td>42</td>\n",
       "      <td>8</td>\n",
       "      <td>159660.80</td>\n",
       "      <td>3</td>\n",
       "      <td>1</td>\n",
       "      <td>0</td>\n",
       "      <td>113931.57</td>\n",
       "      <td>1</td>\n",
       "    </tr>\n",
       "    <tr>\n",
       "      <th>3</th>\n",
       "      <td>4</td>\n",
       "      <td>15701354</td>\n",
       "      <td>Boni</td>\n",
       "      <td>699</td>\n",
       "      <td>France</td>\n",
       "      <td>Female</td>\n",
       "      <td>39</td>\n",
       "      <td>1</td>\n",
       "      <td>0.00</td>\n",
       "      <td>2</td>\n",
       "      <td>0</td>\n",
       "      <td>0</td>\n",
       "      <td>93826.63</td>\n",
       "      <td>0</td>\n",
       "    </tr>\n",
       "    <tr>\n",
       "      <th>4</th>\n",
       "      <td>5</td>\n",
       "      <td>15737888</td>\n",
       "      <td>Mitchell</td>\n",
       "      <td>850</td>\n",
       "      <td>Spain</td>\n",
       "      <td>Female</td>\n",
       "      <td>43</td>\n",
       "      <td>2</td>\n",
       "      <td>125510.82</td>\n",
       "      <td>1</td>\n",
       "      <td>1</td>\n",
       "      <td>1</td>\n",
       "      <td>79084.10</td>\n",
       "      <td>0</td>\n",
       "    </tr>\n",
       "  </tbody>\n",
       "</table>\n",
       "</div>"
      ],
      "text/plain": [
       "   RowNumber  CustomerId   Surname  CreditScore Geography  Gender  Age  \\\n",
       "0          1    15634602  Hargrave          619    France  Female   42   \n",
       "1          2    15647311      Hill          608     Spain  Female   41   \n",
       "2          3    15619304      Onio          502    France  Female   42   \n",
       "3          4    15701354      Boni          699    France  Female   39   \n",
       "4          5    15737888  Mitchell          850     Spain  Female   43   \n",
       "\n",
       "   Tenure    Balance  NumOfProducts  HasCrCard  IsActiveMember  \\\n",
       "0       2       0.00              1          1               1   \n",
       "1       1   83807.86              1          0               1   \n",
       "2       8  159660.80              3          1               0   \n",
       "3       1       0.00              2          0               0   \n",
       "4       2  125510.82              1          1               1   \n",
       "\n",
       "   EstimatedSalary  Exited  \n",
       "0        101348.88       1  \n",
       "1        112542.58       0  \n",
       "2        113931.57       1  \n",
       "3         93826.63       0  \n",
       "4         79084.10       0  "
      ]
     },
     "execution_count": 2,
     "metadata": {},
     "output_type": "execute_result"
    }
   ],
   "source": [
    "#importing dataset\n",
    "dataset=pd.read_csv('./../0. DataSets/Churn_Modelling.csv')\n",
    "dataset.head()"
   ]
  },
  {
   "cell_type": "code",
   "execution_count": 3,
   "metadata": {},
   "outputs": [],
   "source": [
    "#Faz com que os displays (tanto do pandas como dos arrays tenham notacao decimal)\n",
    "dataset.round()\n",
    "pd.options.display.float_format = '{:,.0f}'.format\n",
    "float_formatter = lambda x: \"%.2f\" % x\n",
    "np.set_printoptions(formatter={'float_kind':float_formatter})"
   ]
  },
  {
   "cell_type": "markdown",
   "metadata": {},
   "source": [
    "## Business Problem explanation:"
   ]
  },
  {
   "cell_type": "code",
   "execution_count": 4,
   "metadata": {},
   "outputs": [],
   "source": [
    "#we have a list of customers from a bank with loads of different independent variables.\n",
    "#based on these variables we want to predict the last column, that is, if the customer left/exited the bank or not"
   ]
  },
  {
   "cell_type": "code",
   "execution_count": 5,
   "metadata": {},
   "outputs": [],
   "source": [
    "#Create X matrix with all the independent variables\n",
    "#Create y vector with all the dependent variables\n",
    "X=dataset.iloc[:,3:13].values #ignored the first columns, ie. customer id, surname\n",
    "y=dataset.iloc[:,13].values"
   ]
  },
  {
   "cell_type": "code",
   "execution_count": 6,
   "metadata": {},
   "outputs": [
    {
     "data": {
      "text/plain": [
       "array([[619, 'France', 'Female', ..., 1, 1, 101348.88],\n",
       "       [608, 'Spain', 'Female', ..., 0, 1, 112542.58],\n",
       "       [502, 'France', 'Female', ..., 1, 0, 113931.57],\n",
       "       ...,\n",
       "       [709, 'France', 'Female', ..., 0, 1, 42085.58],\n",
       "       [772, 'Germany', 'Male', ..., 1, 0, 92888.52],\n",
       "       [792, 'France', 'Female', ..., 1, 0, 38190.78]], dtype=object)"
      ]
     },
     "execution_count": 6,
     "metadata": {},
     "output_type": "execute_result"
    }
   ],
   "source": [
    "X"
   ]
  },
  {
   "cell_type": "code",
   "execution_count": 7,
   "metadata": {},
   "outputs": [],
   "source": [
    "#Encoding categorical data\n",
    "#We only have 2 categorical variables: Geography and Gender. We have to create 2 different encoders\n",
    "\n",
    "from sklearn.preprocessing import LabelEncoder, OneHotEncoder\n",
    "\n",
    "#encode Geography, that means turn a word and turn into a number. On this case France will be turned into 0 and Spain will be turned into 2\n",
    "labelencoder_X_1=LabelEncoder()\n",
    "X[:,1]=labelencoder_X_1.fit_transform(X[:,1])\n",
    "\n",
    "#encode Gender\n",
    "labelencoder_X_2=LabelEncoder()\n",
    "X[:,2]=labelencoder_X_2.fit_transform(X[:,2])\n",
    "\n",
    "#Vamos onehotencode coluna 1. Que e geography.\n",
    "#One hot encoded columns passam para o inicio da matrix (deixa de ser o credit score que agora esta na posicao 3)\n",
    "onehotencoder=OneHotEncoder(categorical_features=[1])\n",
    "X=onehotencoder.fit_transform(X).toarray()\n"
   ]
  },
  {
   "cell_type": "code",
   "execution_count": 8,
   "metadata": {},
   "outputs": [
    {
     "data": {
      "text/plain": [
       "array([[0.00, 0.00, 619.00, ..., 1.00, 1.00, 101348.88],\n",
       "       [0.00, 1.00, 608.00, ..., 0.00, 1.00, 112542.58],\n",
       "       [0.00, 0.00, 502.00, ..., 1.00, 0.00, 113931.57],\n",
       "       ...,\n",
       "       [0.00, 0.00, 709.00, ..., 0.00, 1.00, 42085.58],\n",
       "       [1.00, 0.00, 772.00, ..., 1.00, 0.00, 92888.52],\n",
       "       [0.00, 0.00, 792.00, ..., 1.00, 0.00, 38190.78]])"
      ]
     },
     "execution_count": 8,
     "metadata": {},
     "output_type": "execute_result"
    }
   ],
   "source": [
    "#como fizemos one hot encode e ficamos com tres colunas (correnspondendo a spain,france e outro pais)\n",
    "#podemos eliminar uma coluna para nao cair na dummy variable trap. ficando so com 2 dummy variables\n",
    "X=X[:,1:]\n",
    "X"
   ]
  },
  {
   "cell_type": "code",
   "execution_count": 9,
   "metadata": {},
   "outputs": [],
   "source": [
    "#Now, we have to split the dataset into the training set/test set\n",
    "# from sklearn.cross_validation import train_test_split\n",
    "from sklearn.model_selection import train_test_split\n",
    "X_train, X_test, y_train, y_test = train_test_split(X,y,test_size=0.2, random_state=0)\n"
   ]
  },
  {
   "cell_type": "code",
   "execution_count": 10,
   "metadata": {},
   "outputs": [],
   "source": [
    "#Feature scaling\n",
    "from sklearn.preprocessing import StandardScaler\n",
    "sc=StandardScaler()\n",
    "X_train=sc.fit_transform(X_train)\n",
    "X_test=sc.transform(X_test)"
   ]
  },
  {
   "cell_type": "code",
   "execution_count": 11,
   "metadata": {},
   "outputs": [
    {
     "name": "stderr",
     "output_type": "stream",
     "text": [
      "Using TensorFlow backend.\n"
     ]
    }
   ],
   "source": [
    "#Make the Artificial Neural Network\n",
    "\n",
    "#Importing Keras libraries and required packages\n",
    "import keras\n",
    "from keras.models import Sequential\n",
    "from keras.layers import Dense\n"
   ]
  },
  {
   "cell_type": "code",
   "execution_count": 17,
   "metadata": {},
   "outputs": [
    {
     "name": "stderr",
     "output_type": "stream",
     "text": [
      "/home/xbuns/anaconda3/envs/my_env_1/lib/python3.6/site-packages/ipykernel/__main__.py:5: UserWarning: Update your `Dense` call to the Keras 2 API: `Dense(activation=\"relu\", input_dim=11, units=6, kernel_initializer=\"uniform\")`\n",
      "/home/xbuns/anaconda3/envs/my_env_1/lib/python3.6/site-packages/ipykernel/__main__.py:14: UserWarning: Update your `Dense` call to the Keras 2 API: `Dense(activation=\"relu\", units=6, kernel_initializer=\"uniform\")`\n",
      "/home/xbuns/anaconda3/envs/my_env_1/lib/python3.6/site-packages/ipykernel/__main__.py:17: UserWarning: Update your `Dense` call to the Keras 2 API: `Dense(activation=\"sigmoid\", units=1, kernel_initializer=\"uniform\")`\n"
     ]
    }
   ],
   "source": [
    "#Initialising the ANN\n",
    "classifier=Sequential()\n",
    "\n",
    "#Adding the input layer and the first hidden layer\n",
    "classifier.add(Dense(output_dim=6, init='uniform', activation='relu',input_dim=11))\n",
    "#So precisamos de definir o input layer no primeiro layer, dps disso a ANN descobre automaticamente\n",
    "\n",
    "\n",
    "#uma tip que deram para o output_dim e a media da soma dos inputs parameters (11) com os output parameters (1).\n",
    "#neste caso (11+1) / 2 = 6\n",
    "\n",
    "#the inits and activations and optimizers and losses are different if instead of a binary classification we had more categories\n",
    "#Adding the second hidden layer\n",
    "classifier.add(Dense(output_dim=6, init='uniform', activation='relu'))\n",
    "\n",
    "#Adding the output layer\n",
    "classifier.add(Dense(output_dim=1, init='uniform', activation='sigmoid'))\n",
    "\n",
    "#Compiling the ANN \n",
    "classifier.compile(optimizer='adam', loss='binary_crossentropy',metrics=['accuracy'])"
   ]
  },
  {
   "cell_type": "code",
   "execution_count": 18,
   "metadata": {},
   "outputs": [
    {
     "name": "stderr",
     "output_type": "stream",
     "text": [
      "/home/xbuns/anaconda3/envs/my_env_1/lib/python3.6/site-packages/ipykernel/__main__.py:2: UserWarning: The `nb_epoch` argument in `fit` has been renamed `epochs`.\n",
      "  from ipykernel import kernelapp as app\n"
     ]
    },
    {
     "name": "stdout",
     "output_type": "stream",
     "text": [
      "Epoch 1/100\n",
      "8000/8000 [==============================] - 2s 269us/step - loss: 0.4908 - acc: 0.8006\n",
      "Epoch 2/100\n",
      "8000/8000 [==============================] - 1s 177us/step - loss: 0.4044 - acc: 0.8269\n",
      "Epoch 3/100\n",
      "8000/8000 [==============================] - 2s 188us/step - loss: 0.3915 - acc: 0.8306\n",
      "Epoch 4/100\n",
      "8000/8000 [==============================] - 2s 194us/step - loss: 0.3825 - acc: 0.8312\n",
      "Epoch 5/100\n",
      "8000/8000 [==============================] - 2s 192us/step - loss: 0.3762 - acc: 0.8425\n",
      "Epoch 6/100\n",
      "8000/8000 [==============================] - 2s 236us/step - loss: 0.3705 - acc: 0.8470\n",
      "Epoch 7/100\n",
      "8000/8000 [==============================] - 2s 224us/step - loss: 0.3663 - acc: 0.8486\n",
      "Epoch 8/100\n",
      "8000/8000 [==============================] - 2s 199us/step - loss: 0.3626 - acc: 0.8500\n",
      "Epoch 9/100\n",
      "8000/8000 [==============================] - 1s 181us/step - loss: 0.3603 - acc: 0.8502\n",
      "Epoch 10/100\n",
      "8000/8000 [==============================] - 2s 207us/step - loss: 0.3580 - acc: 0.8542\n",
      "Epoch 11/100\n",
      "8000/8000 [==============================] - 1s 185us/step - loss: 0.3563 - acc: 0.8535\n",
      "Epoch 12/100\n",
      "8000/8000 [==============================] - 1s 169us/step - loss: 0.3539 - acc: 0.8550\n",
      "Epoch 13/100\n",
      "8000/8000 [==============================] - 1s 170us/step - loss: 0.3530 - acc: 0.8519\n",
      "Epoch 14/100\n",
      "8000/8000 [==============================] - 2s 188us/step - loss: 0.3507 - acc: 0.8554\n",
      "Epoch 15/100\n",
      "8000/8000 [==============================] - 1s 181us/step - loss: 0.3499 - acc: 0.8565\n",
      "Epoch 16/100\n",
      "8000/8000 [==============================] - 1s 176us/step - loss: 0.3494 - acc: 0.8576\n",
      "Epoch 17/100\n",
      "8000/8000 [==============================] - 2s 222us/step - loss: 0.3486 - acc: 0.8561\n",
      "Epoch 18/100\n",
      "8000/8000 [==============================] - 2s 249us/step - loss: 0.3488 - acc: 0.8547\n",
      "Epoch 19/100\n",
      "8000/8000 [==============================] - 2s 254us/step - loss: 0.3471 - acc: 0.8589\n",
      "Epoch 20/100\n",
      "8000/8000 [==============================] - 2s 202us/step - loss: 0.3461 - acc: 0.8610\n",
      "Epoch 21/100\n",
      "8000/8000 [==============================] - 2s 298us/step - loss: 0.3464 - acc: 0.8572\n",
      "Epoch 22/100\n",
      "8000/8000 [==============================] - 3s 322us/step - loss: 0.3463 - acc: 0.8586\n",
      "Epoch 23/100\n",
      "8000/8000 [==============================] - 3s 328us/step - loss: 0.3456 - acc: 0.8567\n",
      "Epoch 24/100\n",
      "8000/8000 [==============================] - 3s 314us/step - loss: 0.3448 - acc: 0.8580\n",
      "Epoch 25/100\n",
      "8000/8000 [==============================] - 2s 283us/step - loss: 0.3452 - acc: 0.8591\n",
      "Epoch 26/100\n",
      "8000/8000 [==============================] - 3s 341us/step - loss: 0.3455 - acc: 0.8564\n",
      "Epoch 27/100\n",
      "8000/8000 [==============================] - 3s 321us/step - loss: 0.3453 - acc: 0.8585\n",
      "Epoch 28/100\n",
      "8000/8000 [==============================] - 3s 364us/step - loss: 0.3453 - acc: 0.8571\n",
      "Epoch 29/100\n",
      "8000/8000 [==============================] - 3s 317us/step - loss: 0.3448 - acc: 0.8590\n",
      "Epoch 30/100\n",
      "8000/8000 [==============================] - 2s 306us/step - loss: 0.3439 - acc: 0.8579\n",
      "Epoch 31/100\n",
      "8000/8000 [==============================] - 2s 223us/step - loss: 0.3440 - acc: 0.8594\n",
      "Epoch 32/100\n",
      "8000/8000 [==============================] - 2s 226us/step - loss: 0.3441 - acc: 0.8592\n",
      "Epoch 33/100\n",
      "8000/8000 [==============================] - 2s 208us/step - loss: 0.3440 - acc: 0.8575\n",
      "Epoch 34/100\n",
      "8000/8000 [==============================] - 2s 242us/step - loss: 0.3440 - acc: 0.8600\n",
      "Epoch 35/100\n",
      "8000/8000 [==============================] - 2s 226us/step - loss: 0.3433 - acc: 0.8577\n",
      "Epoch 36/100\n",
      "8000/8000 [==============================] - 2s 232us/step - loss: 0.3434 - acc: 0.8577\n",
      "Epoch 37/100\n",
      "8000/8000 [==============================] - 2s 217us/step - loss: 0.3440 - acc: 0.8596\n",
      "Epoch 38/100\n",
      "8000/8000 [==============================] - 2s 217us/step - loss: 0.3427 - acc: 0.8590\n",
      "Epoch 39/100\n",
      "8000/8000 [==============================] - 2s 209us/step - loss: 0.3432 - acc: 0.8592\n",
      "Epoch 40/100\n",
      "8000/8000 [==============================] - 2s 203us/step - loss: 0.3435 - acc: 0.8585\n",
      "Epoch 41/100\n",
      "8000/8000 [==============================] - 2s 209us/step - loss: 0.3425 - acc: 0.8596\n",
      "Epoch 42/100\n",
      "8000/8000 [==============================] - 2s 225us/step - loss: 0.3427 - acc: 0.8587\n",
      "Epoch 43/100\n",
      "8000/8000 [==============================] - 2s 256us/step - loss: 0.3420 - acc: 0.8590\n",
      "Epoch 44/100\n",
      "8000/8000 [==============================] - 1s 180us/step - loss: 0.3431 - acc: 0.8602\n",
      "Epoch 45/100\n",
      "8000/8000 [==============================] - 1s 158us/step - loss: 0.3433 - acc: 0.8580\n",
      "Epoch 46/100\n",
      "8000/8000 [==============================] - 2s 222us/step - loss: 0.3421 - acc: 0.8604\n",
      "Epoch 47/100\n",
      "8000/8000 [==============================] - 3s 318us/step - loss: 0.3425 - acc: 0.8600\n",
      "Epoch 48/100\n",
      "8000/8000 [==============================] - 2s 303us/step - loss: 0.3419 - acc: 0.8586\n",
      "Epoch 49/100\n",
      "8000/8000 [==============================] - 2s 285us/step - loss: 0.3422 - acc: 0.8586\n",
      "Epoch 50/100\n",
      "8000/8000 [==============================] - 2s 196us/step - loss: 0.3425 - acc: 0.8572\n",
      "Epoch 51/100\n",
      "8000/8000 [==============================] - 1s 144us/step - loss: 0.3416 - acc: 0.8604\n",
      "Epoch 52/100\n",
      "8000/8000 [==============================] - 2s 201us/step - loss: 0.3416 - acc: 0.8615\n",
      "Epoch 53/100\n",
      "8000/8000 [==============================] - 2s 243us/step - loss: 0.3419 - acc: 0.8591\n",
      "Epoch 54/100\n",
      "8000/8000 [==============================] - 1s 164us/step - loss: 0.3414 - acc: 0.8592\n",
      "Epoch 55/100\n",
      "8000/8000 [==============================] - 2s 191us/step - loss: 0.3403 - acc: 0.8601\n",
      "Epoch 56/100\n",
      "8000/8000 [==============================] - 2s 220us/step - loss: 0.3416 - acc: 0.8586\n",
      "Epoch 57/100\n",
      "8000/8000 [==============================] - 2s 212us/step - loss: 0.3414 - acc: 0.8602\n",
      "Epoch 58/100\n",
      "8000/8000 [==============================] - 2s 254us/step - loss: 0.3412 - acc: 0.8626\n",
      "Epoch 59/100\n",
      "8000/8000 [==============================] - 2s 237us/step - loss: 0.3400 - acc: 0.8614\n",
      "Epoch 60/100\n",
      "8000/8000 [==============================] - 2s 219us/step - loss: 0.3416 - acc: 0.8596\n",
      "Epoch 61/100\n",
      "8000/8000 [==============================] - 2s 199us/step - loss: 0.3413 - acc: 0.8590\n",
      "Epoch 62/100\n",
      "8000/8000 [==============================] - 2s 201us/step - loss: 0.3400 - acc: 0.8597\n",
      "Epoch 63/100\n",
      "8000/8000 [==============================] - 2s 196us/step - loss: 0.3397 - acc: 0.8596\n",
      "Epoch 64/100\n",
      "8000/8000 [==============================] - 2s 190us/step - loss: 0.3397 - acc: 0.8600\n",
      "Epoch 65/100\n",
      "8000/8000 [==============================] - 2s 204us/step - loss: 0.3410 - acc: 0.8591\n",
      "Epoch 66/100\n",
      "8000/8000 [==============================] - 2s 197us/step - loss: 0.3402 - acc: 0.8580\n",
      "Epoch 67/100\n",
      "8000/8000 [==============================] - 2s 235us/step - loss: 0.3402 - acc: 0.8590\n",
      "Epoch 68/100\n",
      "8000/8000 [==============================] - 2s 225us/step - loss: 0.3400 - acc: 0.8601\n",
      "Epoch 69/100\n",
      "8000/8000 [==============================] - 2s 256us/step - loss: 0.3399 - acc: 0.8612\n",
      "Epoch 70/100\n",
      "8000/8000 [==============================] - 2s 237us/step - loss: 0.3398 - acc: 0.8595\n",
      "Epoch 71/100\n",
      "8000/8000 [==============================] - 2s 248us/step - loss: 0.3397 - acc: 0.8619\n",
      "Epoch 72/100\n",
      "8000/8000 [==============================] - 2s 241us/step - loss: 0.3399 - acc: 0.8597\n",
      "Epoch 73/100\n",
      "8000/8000 [==============================] - 2s 241us/step - loss: 0.3407 - acc: 0.8602\n",
      "Epoch 74/100\n",
      "8000/8000 [==============================] - 2s 259us/step - loss: 0.3403 - acc: 0.8591\n",
      "Epoch 75/100\n",
      "8000/8000 [==============================] - 2s 239us/step - loss: 0.3392 - acc: 0.8596\n",
      "Epoch 76/100\n",
      "8000/8000 [==============================] - 2s 227us/step - loss: 0.3387 - acc: 0.8576\n",
      "Epoch 77/100\n",
      "8000/8000 [==============================] - 2s 252us/step - loss: 0.3400 - acc: 0.8600\n",
      "Epoch 78/100\n",
      "8000/8000 [==============================] - 2s 221us/step - loss: 0.3404 - acc: 0.8606\n",
      "Epoch 79/100\n",
      "8000/8000 [==============================] - 2s 250us/step - loss: 0.3391 - acc: 0.8592\n",
      "Epoch 80/100\n",
      "8000/8000 [==============================] - 2s 262us/step - loss: 0.3386 - acc: 0.8590\n",
      "Epoch 81/100\n",
      "8000/8000 [==============================] - 2s 215us/step - loss: 0.3386 - acc: 0.8595\n",
      "Epoch 82/100\n"
     ]
    },
    {
     "name": "stdout",
     "output_type": "stream",
     "text": [
      "8000/8000 [==============================] - 2s 211us/step - loss: 0.3386 - acc: 0.8619\n",
      "Epoch 83/100\n",
      "8000/8000 [==============================] - 2s 228us/step - loss: 0.3377 - acc: 0.8622\n",
      "Epoch 84/100\n",
      "8000/8000 [==============================] - 2s 206us/step - loss: 0.3392 - acc: 0.8626\n",
      "Epoch 85/100\n",
      "8000/8000 [==============================] - 2s 214us/step - loss: 0.3397 - acc: 0.8612\n",
      "Epoch 86/100\n",
      "8000/8000 [==============================] - 2s 216us/step - loss: 0.3379 - acc: 0.8627\n",
      "Epoch 87/100\n",
      "8000/8000 [==============================] - 2s 211us/step - loss: 0.3388 - acc: 0.8591\n",
      "Epoch 88/100\n",
      "8000/8000 [==============================] - 2s 210us/step - loss: 0.3377 - acc: 0.8597\n",
      "Epoch 89/100\n",
      "8000/8000 [==============================] - 2s 202us/step - loss: 0.3384 - acc: 0.8624\n",
      "Epoch 90/100\n",
      "8000/8000 [==============================] - 2s 197us/step - loss: 0.3377 - acc: 0.8620\n",
      "Epoch 91/100\n",
      "8000/8000 [==============================] - 2s 212us/step - loss: 0.3377 - acc: 0.8600\n",
      "Epoch 92/100\n",
      "8000/8000 [==============================] - 2s 225us/step - loss: 0.3383 - acc: 0.8622\n",
      "Epoch 93/100\n",
      "8000/8000 [==============================] - 2s 205us/step - loss: 0.3378 - acc: 0.8576\n",
      "Epoch 94/100\n",
      "8000/8000 [==============================] - 2s 216us/step - loss: 0.3376 - acc: 0.8586\n",
      "Epoch 95/100\n",
      "8000/8000 [==============================] - 2s 223us/step - loss: 0.3373 - acc: 0.8624\n",
      "Epoch 96/100\n",
      "8000/8000 [==============================] - 1s 187us/step - loss: 0.3371 - acc: 0.8620\n",
      "Epoch 97/100\n",
      "8000/8000 [==============================] - 2s 221us/step - loss: 0.3371 - acc: 0.8607\n",
      "Epoch 98/100\n",
      "8000/8000 [==============================] - 2s 205us/step - loss: 0.3379 - acc: 0.8606\n",
      "Epoch 99/100\n",
      "8000/8000 [==============================] - 2s 224us/step - loss: 0.3360 - acc: 0.8620\n",
      "Epoch 100/100\n",
      "8000/8000 [==============================] - 2s 218us/step - loss: 0.3368 - acc: 0.8599\n"
     ]
    },
    {
     "data": {
      "text/plain": [
       "<keras.callbacks.History at 0x7f63c9dd5a90>"
      ]
     },
     "execution_count": 18,
     "metadata": {},
     "output_type": "execute_result"
    }
   ],
   "source": [
    "#Fitting the ANN to the training set\n",
    "classifier.fit(X_train,y_train,batch_size=10, nb_epoch=100)"
   ]
  },
  {
   "cell_type": "code",
   "execution_count": 19,
   "metadata": {},
   "outputs": [],
   "source": [
    "#agora que treinei o modelo vou usar a matrix X_test para o testar.\n",
    "y_pred=classifier.predict(X_test)\n",
    "y_pred"
   ]
  },
  {
   "cell_type": "code",
   "execution_count": 22,
   "metadata": {},
   "outputs": [
    {
     "data": {
      "text/plain": [
       "array([[False],\n",
       "       [False],\n",
       "       [False],\n",
       "       ...,\n",
       "       [False],\n",
       "       [False],\n",
       "       [False]])"
      ]
     },
     "execution_count": 22,
     "metadata": {},
     "output_type": "execute_result"
    }
   ],
   "source": [
    "#para fazer a confusion matrix escolho um treshold onde digo que acima desse valor retorna true (neste caso o cliente deixou o banco)\n",
    "y_pred=(y_pred>0.5)\n",
    "y_pred"
   ]
  },
  {
   "cell_type": "code",
   "execution_count": 26,
   "metadata": {},
   "outputs": [],
   "source": [
    "from sklearn.metrics import confusion_matrix\n",
    "\n",
    "#vou comparar os resultados do meu modelo com os resultados reais fazendo uma confusion matrix\n",
    "cm=confusion_matrix(y_test,y_pred)"
   ]
  },
  {
   "cell_type": "code",
   "execution_count": 24,
   "metadata": {},
   "outputs": [
    {
     "data": {
      "text/plain": [
       "array([[1482,  113],\n",
       "       [ 173,  232]])"
      ]
     },
     "execution_count": 24,
     "metadata": {},
     "output_type": "execute_result"
    }
   ],
   "source": [
    "cm"
   ]
  },
  {
   "cell_type": "markdown",
   "metadata": {},
   "source": [
    "retornou isto:\n",
    "\n",
    "array([[1482,  113],\n",
    "       [ 173,  232]])\n",
    "\n",
    "ou seja o meu modelo preveu que 1482 nao se iam embora e nao foram\n",
    "232 pessoas iam embora e foram\n",
    "\n",
    "falsos:\n",
    "173 nao iam embora e foram \n",
    "113 iam embora e nao foram"
   ]
  },
  {
   "cell_type": "code",
   "execution_count": 25,
   "metadata": {},
   "outputs": [
    {
     "data": {
      "text/plain": [
       "0.857"
      ]
     },
     "execution_count": 25,
     "metadata": {},
     "output_type": "execute_result"
    }
   ],
   "source": [
    "#calcular a accuracy do modelo\n",
    "\n",
    "(1482+232)/(1482+113+173+232)"
   ]
  },
  {
   "cell_type": "code",
   "execution_count": null,
   "metadata": {},
   "outputs": [],
   "source": []
  }
 ],
 "metadata": {
  "kernelspec": {
   "display_name": "Python [conda env:my_env_1]",
   "language": "python",
   "name": "conda-env-my_env_1-py"
  },
  "language_info": {
   "codemirror_mode": {
    "name": "ipython",
    "version": 3
   },
   "file_extension": ".py",
   "mimetype": "text/x-python",
   "name": "python",
   "nbconvert_exporter": "python",
   "pygments_lexer": "ipython3",
   "version": "3.6.6"
  }
 },
 "nbformat": 4,
 "nbformat_minor": 2
}
